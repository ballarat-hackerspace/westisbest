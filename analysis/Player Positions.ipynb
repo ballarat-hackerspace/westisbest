{
 "cells": [
  {
   "cell_type": "code",
   "execution_count": 1,
   "metadata": {
    "collapsed": true
   },
   "outputs": [],
   "source": [
    "import pandas as pd\n",
    "import numpy as np"
   ]
  },
  {
   "cell_type": "code",
   "execution_count": 2,
   "metadata": {
    "collapsed": true
   },
   "outputs": [],
   "source": [
    "data_folder = '/home/robert/data/Hackathon/'"
   ]
  },
  {
   "cell_type": "code",
   "execution_count": 3,
   "metadata": {
    "collapsed": false
   },
   "outputs": [
    {
     "data": {
      "text/plain": [
       "['WBvFremantle_WideFormat.csv',\n",
       " 'WBvFreMatchTimes.txt',\n",
       " 'player_team.csv',\n",
       " 'MatchSim15v15_PlayerLocation.csv',\n",
       " 'Player Team Allocations 15v15 Match Play.xlsx',\n",
       " 'WBvFremantlePlaybyPlay.xlsx',\n",
       " 'MatchSim15v15PlaybyPlay.txt',\n",
       " 'MatchSim15v15.mov',\n",
       " 'WBvFremantle_Longformat.txt',\n",
       " 'WB v FREMANTLE.mov']"
      ]
     },
     "execution_count": 3,
     "metadata": {},
     "output_type": "execute_result"
    }
   ],
   "source": [
    "import os\n",
    "os.listdir(data_folder)"
   ]
  },
  {
   "cell_type": "code",
   "execution_count": 4,
   "metadata": {
    "collapsed": false
   },
   "outputs": [
    {
     "name": "stdout",
     "output_type": "stream",
     "text": [
      "Time,BIGGS_X,BIGGS_Y,TBOYD_X,TBOYD_Y,CAMPBELL_X,CAMPBELL_Y,CLOKE_X,CLOKE_Y,COLLINS_X,COLLINS_Y,CRAMERI_X,CRAMERI_Y,DAHLHAUS_X,DAHLHAUS_Y,DALE_X,DALE_Y,DANIEL_X,DANIEL_Y,DUNKLEY_X,DUNKLEY_Y,ENGLISH_X,ENGLISH_Y,HAMILTON_X,HAMILTON_Y,HONEYCHURCH_X,HONEYCHURCH_Y,HUNTER_X,HUNTER_Y,JOHANNISEN_X,JOHANNISEN_Y,LYNCH_X,LYNCH_Y,JONG_X,JONG_Y,LIBEREATORE_X,LIBERATORE_Y,LIPINSKI_X,LIPINSKI_Y,MURPHY_X,MURPHY_Y,MCLEAN_X,MCLEAN_Y,MORRIS_X,MORRIS_Y,MULLENGER_X,MULLENGER_Y,ROUGHEAD_X,ROUGHEAD_Y,PICKEN_X,PICKEN_Y,ROBERTS_X,ROBERTS_Y,SMITH_X,SMITH_Y,STRINGER_X,STRINGER_Y,WEBB_X,WEBB_Y,WILLIAMS_X,WILLIAMS_Y,INPERIOD\r",
      "\r\n",
      "01:20.5,-5883.428678,3321.40538,-5897.969105,3296.898876,-5898.370317,3328.320628,-5886.543428,3366.577187,-5903.165953,3297.916282,-5914.223449,3341.284295,-5895.207081,3338.500927,-5887.519099,3339.272282,-5904.926246,3320.934909,-5904.736044,3350.448009,-5890.556409,3386.952576,-5888.484645,3347.074378,-5882.427399,3349.864629,-5915.137896,3339.219173,-5899.245012,3356.81183,-5902.371499,3319.937808,-5883.051738,3348.52117,-5894.96259,3341.442409,-5901.763361,3307.018692,-5878.641191,3351.01056,-5890.753627,3342.555351,-5894.496879,3367.52603,-5891.413911,3379.138075,-5899.857282,3350.917678,-5889.800872,3340.325079,-5890.766604,3385.309733,-5881.80184,3324.847318,-5888.350164,3380.694167,-5890.37687,3345.274942,-5898.591764,3305.511465,\r",
      "\r\n",
      "01:20.6,-5883.102906,3321.527705,-5897.925245,3297.143092,-5898.467202,3328.331657,-5886.270552,3366.777169,-5903.130805,3298.0273,-5914.505242,3341.239696,-5895.039612,3338.312359,-5887.325456,3339.42781,-5905.137781,3321.167842,-5905.018037,3350.680891,-5890.565304,3387.074662,-5888.291025,3347.263205,-5882.207485,3350.231062,-5915.261075,3339.052596,-5899.306781,3356.978275,-5902.257207,3320.215372,-5882.69065,3348.521429,-5895.174007,3341.508853,-5901.913295,3307.318264,-5878.429956,3351.199398,-5890.797654,3342.54422,-5894.276893,3367.79257,-5891.220227,3379.238108,-5899.875079,3351.172949,-5890.047469,3340.324903,-5890.766683,3385.420726,-5881.617123,3325.169329,-5888.279818,3380.849607,-5890.209545,3345.286161,-5898.794452,3305.688908,\r",
      "\r\n",
      "01:20.7,-5882.733123,3321.68336,-5897.916668,3297.464977,-5898.581645,3328.26498,-5886.076971,3367.021492,-5903.095665,3298.149417,-5914.804665,3341.217282,-5894.819302,3338.123829,-5887.158313,3339.694312,-5905.331694,3321.389688,-5905.282359,3350.836091,-5890.494919,3387.174605,-5888.203082,3347.440856,-5881.987475,3350.464304,-5915.41941,3338.786099,-5899.386195,3357.189104,-5902.090096,3320.526271,-5882.5586,3348.599218,-5895.341412,3341.608627,-5901.975079,3307.506908,-5878.315528,3351.288274,-5890.76245,3342.577543,-5894.074529,3368.070197,-5891.079409,3379.3714,-5899.857639,3351.417145,-5890.258829,3340.313652,-5890.749188,3385.587228,-5881.405937,3325.424763,-5888.200706,3381.060549,-5890.068577,3345.208567,-5898.97951,3305.844165,\r",
      "\r\n",
      "01:20.8,-5882.354477,3321.761325,-5897.934449,3297.698049,-5898.775439,3328.320337,-5885.786505,3367.254784,-5903.034127,3298.304851,-5914.954432,3341.28377,-5894.572681,3338.090708,-5886.947071,3339.872052,-5905.455255,3321.755876,-5905.573182,3351.102265,-5890.380506,3387.28568,-5888.035884,3347.629663,-5881.864383,3350.752973,-5915.524855,3338.453046,-5899.483216,3357.388821,-5901.975828,3320.837133,-5882.232811,3348.699344,-5895.517568,3341.630699,-5902.001603,3307.651179,-5878.077802,3351.377238,-5890.709663,3342.655276,-5893.836969,3368.392246,-5890.920977,3379.504704,-5899.813819,3351.716857,-5890.417324,3340.269142,-5890.722902,3385.775934,-5881.212484,3325.846674,-5888.104026,3381.3381,-5889.90133,3345.330779,-5899.138195,3306.066037,\r",
      "\r\n",
      "01:20.9,-5882.05511,3321.861433,-5897.978619,3297.886705,-5899.066166,3328.45332,-5885.513677,3367.521362,-5902.954984,3298.471397,-5915.209892,3341.361281,-5894.185117,3338.013291,-5886.797463,3340.027549,-5905.534773,3322.110995,-5905.811299,3351.557164,-5890.398192,3387.385561,-5887.912712,3347.80734,-5881.758992,3351.163721,-5915.683278,3338.308641,-5899.54504,3357.632961,-5901.861496,3321.0592,-5881.924644,3348.810557,-5895.649801,3341.808192,-5902.081129,3308.017398,-5877.928169,3351.499437,-5890.674514,3342.766294,-5893.581763,3368.66991,-5890.797798,3379.671282,-5899.752393,3352.02768,-5890.602208,3340.180215,-5890.687801,3385.953548,-5880.992563,3326.202008,-5888.09537,3381.548993,-5889.760537,3345.497369,-5899.296967,3306.410001,\r",
      "\r\n",
      "01:21.0,-5881.702981,3322.072571,-5897.99648,3298.230769,-5899.268807,3328.564167,-5885.284821,3367.699114,-5902.867057,3298.671247,-5915.465311,3341.383296,-5893.912028,3337.913593,-5886.463026,3340.349667,-5905.684739,3322.454965,-5906.119848,3351.978715,-5890.459968,3387.563105,-5887.83352,3347.90729,-5881.556708,3351.55234,-5915.81524,3338.108759,-5899.589258,3357.888213,-5901.685555,3321.336808,-5881.731001,3348.966086,-5895.66755,3341.996867,-5902.134162,3308.283743,-5877.778624,3351.743728,-5890.630551,3342.866218,-5893.229648,3368.903247,-5890.65698,3379.804574,-5899.761406,3352.316255,-5890.795923,3340.12458,-5890.767136,3386.053384,-5880.81666,3326.535111,-5888.025056,3381.74883,-5889.63735,3345.652847,-5899.429231,3306.631891,\r",
      "\r\n",
      "01:21.1,-5881.386095,3322.305882,-5898.023076,3298.474934,-5899.418677,3328.774946,-5885.038406,3367.954573,-5902.796752,3298.882184,-5915.668064,3341.649533,-5893.542053,3337.802866,-5886.172601,3340.638456,-5905.843559,3322.865524,-5906.296227,3352.311566,-5890.460127,3387.78509,-5887.798451,3348.1293,-5881.407258,3351.929822,-5915.947233,3337.953275,-5899.65989,3358.132346,-5901.500847,3321.669919,-5881.555019,3349.188197,-5895.685323,3342.21884,-5902.222399,3308.516764,-5877.74357,3351.987937,-5890.648268,3343.010496,-5892.939254,3369.236433,-5890.577819,3379.948921,-5899.761693,3352.715829,-5890.936748,3340.002387,-5890.793636,3386.164358,-5880.658428,3326.945898,-5887.893125,3381.993108,-5889.584611,3345.797175,-5899.55272,3306.898185,\r",
      "\r\n",
      "01:21.2,-5881.13961,3322.461448,-5897.961649,3298.785758,-5899.568611,3329.074519,-5884.783247,3368.298833,-5902.752853,3299.070903,-5915.88836,3341.815863,-5893.092856,3337.747691,-5885.890919,3340.838444,-5905.931924,3323.276134,-5906.569532,3352.710944,-5890.539549,3388.007019,-5887.78098,3348.3291,-5881.504508,3352.451419,-5916.035184,3337.786722,-5899.77454,3358.354249,-5901.360149,3321.9697,-5881.387844,3349.410302,-5895.606195,3342.407584,-5902.301821,3308.738693,-5877.682119,3352.265463,-5890.692343,3343.065961,-5892.639981,3369.469732,-5890.481109,3380.182075,-5899.84125,3353.126445,-5891.121584,3339.846865,-5890.811378,3386.341934,-5880.500227,3327.401081,-5887.770024,3382.270678,-5889.40855,3345.908294,-5899.729122,3307.264335,\r",
      "\r\n",
      "01:21.3,-5880.87555,3322.672523,-5897.988253,3299.041022,-5899.718457,3329.252,-5884.519266,3368.620901,-5902.735406,3299.304,-5916.099928,3342.093193,-5892.775707,3337.614727,-5885.64452,3341.116102,-5906.04659,3323.520235,-5906.886928,3353.187985,-5890.513263,3388.195725,-5887.869225,3348.573221,-5881.434329,3352.839943,-5916.070316,3337.653506,-5899.898046,3358.642742,-5901.034497,3322.258515,-5881.229452,3349.599103,-5895.54472,3342.651812,-5902.249226,3309.082808,-5877.717506,3352.487423,-5890.745185,3343.065923,-5892.367184,3369.780707,-5890.410795,3380.381912,-5899.876717,3353.459397,-5891.147981,3339.813548,-5890.811489,3386.497323,-5880.394852,3327.834028,-5887.726172,3382.525993,-5889.294209,3346.119262,-5899.923106,3307.586074,\r",
      "\r\n"
     ]
    }
   ],
   "source": [
    "!head /home/robert/data/Hackathon/MatchSim15v15_PlayerLocation.csv"
   ]
  },
  {
   "cell_type": "code",
   "execution_count": 5,
   "metadata": {
    "collapsed": false
   },
   "outputs": [],
   "source": [
    "player_positions = pd.read_csv(\"/home/robert/data/Hackathon/MatchSim15v15_PlayerLocation.csv\", index_col=\"Time\", parse_dates=[\"Time\"])"
   ]
  },
  {
   "cell_type": "code",
   "execution_count": 6,
   "metadata": {
    "collapsed": false
   },
   "outputs": [
    {
     "data": {
      "text/html": [
       "<div>\n",
       "<table border=\"1\" class=\"dataframe\">\n",
       "  <thead>\n",
       "    <tr style=\"text-align: right;\">\n",
       "      <th></th>\n",
       "      <th>BIGGS_X</th>\n",
       "      <th>BIGGS_Y</th>\n",
       "      <th>TBOYD_X</th>\n",
       "      <th>TBOYD_Y</th>\n",
       "      <th>CAMPBELL_X</th>\n",
       "      <th>CAMPBELL_Y</th>\n",
       "      <th>CLOKE_X</th>\n",
       "      <th>CLOKE_Y</th>\n",
       "      <th>COLLINS_X</th>\n",
       "      <th>COLLINS_Y</th>\n",
       "      <th>...</th>\n",
       "      <th>ROBERTS_Y</th>\n",
       "      <th>SMITH_X</th>\n",
       "      <th>SMITH_Y</th>\n",
       "      <th>STRINGER_X</th>\n",
       "      <th>STRINGER_Y</th>\n",
       "      <th>WEBB_X</th>\n",
       "      <th>WEBB_Y</th>\n",
       "      <th>WILLIAMS_X</th>\n",
       "      <th>WILLIAMS_Y</th>\n",
       "      <th>INPERIOD</th>\n",
       "    </tr>\n",
       "    <tr>\n",
       "      <th>Time</th>\n",
       "      <th></th>\n",
       "      <th></th>\n",
       "      <th></th>\n",
       "      <th></th>\n",
       "      <th></th>\n",
       "      <th></th>\n",
       "      <th></th>\n",
       "      <th></th>\n",
       "      <th></th>\n",
       "      <th></th>\n",
       "      <th></th>\n",
       "      <th></th>\n",
       "      <th></th>\n",
       "      <th></th>\n",
       "      <th></th>\n",
       "      <th></th>\n",
       "      <th></th>\n",
       "      <th></th>\n",
       "      <th></th>\n",
       "      <th></th>\n",
       "      <th></th>\n",
       "    </tr>\n",
       "  </thead>\n",
       "  <tbody>\n",
       "    <tr>\n",
       "      <th>01:20.5</th>\n",
       "      <td>-5883.428678</td>\n",
       "      <td>3321.405380</td>\n",
       "      <td>-5897.969105</td>\n",
       "      <td>3296.898876</td>\n",
       "      <td>-5898.370317</td>\n",
       "      <td>3328.320628</td>\n",
       "      <td>-5886.543428</td>\n",
       "      <td>3366.577187</td>\n",
       "      <td>-5903.165953</td>\n",
       "      <td>3297.916282</td>\n",
       "      <td>...</td>\n",
       "      <td>3385.309733</td>\n",
       "      <td>-5881.801840</td>\n",
       "      <td>3324.847318</td>\n",
       "      <td>-5888.350164</td>\n",
       "      <td>3380.694167</td>\n",
       "      <td>-5890.376870</td>\n",
       "      <td>3345.274942</td>\n",
       "      <td>-5898.591764</td>\n",
       "      <td>3305.511465</td>\n",
       "      <td>NaN</td>\n",
       "    </tr>\n",
       "    <tr>\n",
       "      <th>01:20.6</th>\n",
       "      <td>-5883.102906</td>\n",
       "      <td>3321.527705</td>\n",
       "      <td>-5897.925245</td>\n",
       "      <td>3297.143092</td>\n",
       "      <td>-5898.467202</td>\n",
       "      <td>3328.331657</td>\n",
       "      <td>-5886.270552</td>\n",
       "      <td>3366.777169</td>\n",
       "      <td>-5903.130805</td>\n",
       "      <td>3298.027300</td>\n",
       "      <td>...</td>\n",
       "      <td>3385.420726</td>\n",
       "      <td>-5881.617123</td>\n",
       "      <td>3325.169329</td>\n",
       "      <td>-5888.279818</td>\n",
       "      <td>3380.849607</td>\n",
       "      <td>-5890.209545</td>\n",
       "      <td>3345.286161</td>\n",
       "      <td>-5898.794452</td>\n",
       "      <td>3305.688908</td>\n",
       "      <td>NaN</td>\n",
       "    </tr>\n",
       "    <tr>\n",
       "      <th>01:20.7</th>\n",
       "      <td>-5882.733123</td>\n",
       "      <td>3321.683360</td>\n",
       "      <td>-5897.916668</td>\n",
       "      <td>3297.464977</td>\n",
       "      <td>-5898.581645</td>\n",
       "      <td>3328.264980</td>\n",
       "      <td>-5886.076971</td>\n",
       "      <td>3367.021492</td>\n",
       "      <td>-5903.095665</td>\n",
       "      <td>3298.149417</td>\n",
       "      <td>...</td>\n",
       "      <td>3385.587228</td>\n",
       "      <td>-5881.405937</td>\n",
       "      <td>3325.424763</td>\n",
       "      <td>-5888.200706</td>\n",
       "      <td>3381.060549</td>\n",
       "      <td>-5890.068577</td>\n",
       "      <td>3345.208567</td>\n",
       "      <td>-5898.979510</td>\n",
       "      <td>3305.844165</td>\n",
       "      <td>NaN</td>\n",
       "    </tr>\n",
       "    <tr>\n",
       "      <th>01:20.8</th>\n",
       "      <td>-5882.354477</td>\n",
       "      <td>3321.761325</td>\n",
       "      <td>-5897.934449</td>\n",
       "      <td>3297.698049</td>\n",
       "      <td>-5898.775439</td>\n",
       "      <td>3328.320337</td>\n",
       "      <td>-5885.786505</td>\n",
       "      <td>3367.254784</td>\n",
       "      <td>-5903.034127</td>\n",
       "      <td>3298.304851</td>\n",
       "      <td>...</td>\n",
       "      <td>3385.775934</td>\n",
       "      <td>-5881.212484</td>\n",
       "      <td>3325.846674</td>\n",
       "      <td>-5888.104026</td>\n",
       "      <td>3381.338100</td>\n",
       "      <td>-5889.901330</td>\n",
       "      <td>3345.330779</td>\n",
       "      <td>-5899.138195</td>\n",
       "      <td>3306.066037</td>\n",
       "      <td>NaN</td>\n",
       "    </tr>\n",
       "    <tr>\n",
       "      <th>01:20.9</th>\n",
       "      <td>-5882.055110</td>\n",
       "      <td>3321.861433</td>\n",
       "      <td>-5897.978619</td>\n",
       "      <td>3297.886705</td>\n",
       "      <td>-5899.066166</td>\n",
       "      <td>3328.453320</td>\n",
       "      <td>-5885.513677</td>\n",
       "      <td>3367.521362</td>\n",
       "      <td>-5902.954984</td>\n",
       "      <td>3298.471397</td>\n",
       "      <td>...</td>\n",
       "      <td>3385.953548</td>\n",
       "      <td>-5880.992563</td>\n",
       "      <td>3326.202008</td>\n",
       "      <td>-5888.095370</td>\n",
       "      <td>3381.548993</td>\n",
       "      <td>-5889.760537</td>\n",
       "      <td>3345.497369</td>\n",
       "      <td>-5899.296967</td>\n",
       "      <td>3306.410001</td>\n",
       "      <td>NaN</td>\n",
       "    </tr>\n",
       "  </tbody>\n",
       "</table>\n",
       "<p>5 rows × 61 columns</p>\n",
       "</div>"
      ],
      "text/plain": [
       "             BIGGS_X      BIGGS_Y      TBOYD_X      TBOYD_Y   CAMPBELL_X  \\\n",
       "Time                                                                       \n",
       "01:20.5 -5883.428678  3321.405380 -5897.969105  3296.898876 -5898.370317   \n",
       "01:20.6 -5883.102906  3321.527705 -5897.925245  3297.143092 -5898.467202   \n",
       "01:20.7 -5882.733123  3321.683360 -5897.916668  3297.464977 -5898.581645   \n",
       "01:20.8 -5882.354477  3321.761325 -5897.934449  3297.698049 -5898.775439   \n",
       "01:20.9 -5882.055110  3321.861433 -5897.978619  3297.886705 -5899.066166   \n",
       "\n",
       "          CAMPBELL_Y      CLOKE_X      CLOKE_Y    COLLINS_X    COLLINS_Y  \\\n",
       "Time                                                                       \n",
       "01:20.5  3328.320628 -5886.543428  3366.577187 -5903.165953  3297.916282   \n",
       "01:20.6  3328.331657 -5886.270552  3366.777169 -5903.130805  3298.027300   \n",
       "01:20.7  3328.264980 -5886.076971  3367.021492 -5903.095665  3298.149417   \n",
       "01:20.8  3328.320337 -5885.786505  3367.254784 -5903.034127  3298.304851   \n",
       "01:20.9  3328.453320 -5885.513677  3367.521362 -5902.954984  3298.471397   \n",
       "\n",
       "           ...       ROBERTS_Y      SMITH_X      SMITH_Y   STRINGER_X  \\\n",
       "Time       ...                                                          \n",
       "01:20.5    ...     3385.309733 -5881.801840  3324.847318 -5888.350164   \n",
       "01:20.6    ...     3385.420726 -5881.617123  3325.169329 -5888.279818   \n",
       "01:20.7    ...     3385.587228 -5881.405937  3325.424763 -5888.200706   \n",
       "01:20.8    ...     3385.775934 -5881.212484  3325.846674 -5888.104026   \n",
       "01:20.9    ...     3385.953548 -5880.992563  3326.202008 -5888.095370   \n",
       "\n",
       "          STRINGER_Y       WEBB_X       WEBB_Y   WILLIAMS_X   WILLIAMS_Y  \\\n",
       "Time                                                                       \n",
       "01:20.5  3380.694167 -5890.376870  3345.274942 -5898.591764  3305.511465   \n",
       "01:20.6  3380.849607 -5890.209545  3345.286161 -5898.794452  3305.688908   \n",
       "01:20.7  3381.060549 -5890.068577  3345.208567 -5898.979510  3305.844165   \n",
       "01:20.8  3381.338100 -5889.901330  3345.330779 -5899.138195  3306.066037   \n",
       "01:20.9  3381.548993 -5889.760537  3345.497369 -5899.296967  3306.410001   \n",
       "\n",
       "         INPERIOD  \n",
       "Time               \n",
       "01:20.5       NaN  \n",
       "01:20.6       NaN  \n",
       "01:20.7       NaN  \n",
       "01:20.8       NaN  \n",
       "01:20.9       NaN  \n",
       "\n",
       "[5 rows x 61 columns]"
      ]
     },
     "execution_count": 6,
     "metadata": {},
     "output_type": "execute_result"
    }
   ],
   "source": [
    "player_positions.head()"
   ]
  },
  {
   "cell_type": "code",
   "execution_count": 7,
   "metadata": {
    "collapsed": false
   },
   "outputs": [
    {
     "data": {
      "text/plain": [
       "Index(['01:20.5', '01:20.6', '01:20.7', '01:20.8', '01:20.9', '01:21.0',\n",
       "       '01:21.1', '01:21.2', '01:21.3', '01:21.4',\n",
       "       ...\n",
       "       '56:26.1', '56:26.2', '56:26.3', '56:26.4', '56:26.5', '56:26.6',\n",
       "       '56:26.7', '56:26.8', '56:26.9', '56:27.0'],\n",
       "      dtype='object', name='Time', length=33066)"
      ]
     },
     "execution_count": 7,
     "metadata": {},
     "output_type": "execute_result"
    }
   ],
   "source": [
    "player_positions.index"
   ]
  },
  {
   "cell_type": "code",
   "execution_count": 8,
   "metadata": {
    "collapsed": false
   },
   "outputs": [],
   "source": [
    "player_positions.index = pd.to_datetime(player_positions.index, format='%M:%S.%f').time"
   ]
  },
  {
   "cell_type": "code",
   "execution_count": 9,
   "metadata": {
    "collapsed": false
   },
   "outputs": [
    {
     "data": {
      "text/html": [
       "<div>\n",
       "<table border=\"1\" class=\"dataframe\">\n",
       "  <thead>\n",
       "    <tr style=\"text-align: right;\">\n",
       "      <th></th>\n",
       "      <th>BIGGS_X</th>\n",
       "      <th>BIGGS_Y</th>\n",
       "      <th>TBOYD_X</th>\n",
       "      <th>TBOYD_Y</th>\n",
       "      <th>CAMPBELL_X</th>\n",
       "      <th>CAMPBELL_Y</th>\n",
       "      <th>CLOKE_X</th>\n",
       "      <th>CLOKE_Y</th>\n",
       "      <th>COLLINS_X</th>\n",
       "      <th>COLLINS_Y</th>\n",
       "      <th>...</th>\n",
       "      <th>ROBERTS_Y</th>\n",
       "      <th>SMITH_X</th>\n",
       "      <th>SMITH_Y</th>\n",
       "      <th>STRINGER_X</th>\n",
       "      <th>STRINGER_Y</th>\n",
       "      <th>WEBB_X</th>\n",
       "      <th>WEBB_Y</th>\n",
       "      <th>WILLIAMS_X</th>\n",
       "      <th>WILLIAMS_Y</th>\n",
       "      <th>INPERIOD</th>\n",
       "    </tr>\n",
       "  </thead>\n",
       "  <tbody>\n",
       "    <tr>\n",
       "      <th>00:01:20.500000</th>\n",
       "      <td>-5883.428678</td>\n",
       "      <td>3321.405380</td>\n",
       "      <td>-5897.969105</td>\n",
       "      <td>3296.898876</td>\n",
       "      <td>-5898.370317</td>\n",
       "      <td>3328.320628</td>\n",
       "      <td>-5886.543428</td>\n",
       "      <td>3366.577187</td>\n",
       "      <td>-5903.165953</td>\n",
       "      <td>3297.916282</td>\n",
       "      <td>...</td>\n",
       "      <td>3385.309733</td>\n",
       "      <td>-5881.801840</td>\n",
       "      <td>3324.847318</td>\n",
       "      <td>-5888.350164</td>\n",
       "      <td>3380.694167</td>\n",
       "      <td>-5890.376870</td>\n",
       "      <td>3345.274942</td>\n",
       "      <td>-5898.591764</td>\n",
       "      <td>3305.511465</td>\n",
       "      <td>NaN</td>\n",
       "    </tr>\n",
       "    <tr>\n",
       "      <th>00:01:20.600000</th>\n",
       "      <td>-5883.102906</td>\n",
       "      <td>3321.527705</td>\n",
       "      <td>-5897.925245</td>\n",
       "      <td>3297.143092</td>\n",
       "      <td>-5898.467202</td>\n",
       "      <td>3328.331657</td>\n",
       "      <td>-5886.270552</td>\n",
       "      <td>3366.777169</td>\n",
       "      <td>-5903.130805</td>\n",
       "      <td>3298.027300</td>\n",
       "      <td>...</td>\n",
       "      <td>3385.420726</td>\n",
       "      <td>-5881.617123</td>\n",
       "      <td>3325.169329</td>\n",
       "      <td>-5888.279818</td>\n",
       "      <td>3380.849607</td>\n",
       "      <td>-5890.209545</td>\n",
       "      <td>3345.286161</td>\n",
       "      <td>-5898.794452</td>\n",
       "      <td>3305.688908</td>\n",
       "      <td>NaN</td>\n",
       "    </tr>\n",
       "    <tr>\n",
       "      <th>00:01:20.700000</th>\n",
       "      <td>-5882.733123</td>\n",
       "      <td>3321.683360</td>\n",
       "      <td>-5897.916668</td>\n",
       "      <td>3297.464977</td>\n",
       "      <td>-5898.581645</td>\n",
       "      <td>3328.264980</td>\n",
       "      <td>-5886.076971</td>\n",
       "      <td>3367.021492</td>\n",
       "      <td>-5903.095665</td>\n",
       "      <td>3298.149417</td>\n",
       "      <td>...</td>\n",
       "      <td>3385.587228</td>\n",
       "      <td>-5881.405937</td>\n",
       "      <td>3325.424763</td>\n",
       "      <td>-5888.200706</td>\n",
       "      <td>3381.060549</td>\n",
       "      <td>-5890.068577</td>\n",
       "      <td>3345.208567</td>\n",
       "      <td>-5898.979510</td>\n",
       "      <td>3305.844165</td>\n",
       "      <td>NaN</td>\n",
       "    </tr>\n",
       "    <tr>\n",
       "      <th>00:01:20.800000</th>\n",
       "      <td>-5882.354477</td>\n",
       "      <td>3321.761325</td>\n",
       "      <td>-5897.934449</td>\n",
       "      <td>3297.698049</td>\n",
       "      <td>-5898.775439</td>\n",
       "      <td>3328.320337</td>\n",
       "      <td>-5885.786505</td>\n",
       "      <td>3367.254784</td>\n",
       "      <td>-5903.034127</td>\n",
       "      <td>3298.304851</td>\n",
       "      <td>...</td>\n",
       "      <td>3385.775934</td>\n",
       "      <td>-5881.212484</td>\n",
       "      <td>3325.846674</td>\n",
       "      <td>-5888.104026</td>\n",
       "      <td>3381.338100</td>\n",
       "      <td>-5889.901330</td>\n",
       "      <td>3345.330779</td>\n",
       "      <td>-5899.138195</td>\n",
       "      <td>3306.066037</td>\n",
       "      <td>NaN</td>\n",
       "    </tr>\n",
       "    <tr>\n",
       "      <th>00:01:20.900000</th>\n",
       "      <td>-5882.055110</td>\n",
       "      <td>3321.861433</td>\n",
       "      <td>-5897.978619</td>\n",
       "      <td>3297.886705</td>\n",
       "      <td>-5899.066166</td>\n",
       "      <td>3328.453320</td>\n",
       "      <td>-5885.513677</td>\n",
       "      <td>3367.521362</td>\n",
       "      <td>-5902.954984</td>\n",
       "      <td>3298.471397</td>\n",
       "      <td>...</td>\n",
       "      <td>3385.953548</td>\n",
       "      <td>-5880.992563</td>\n",
       "      <td>3326.202008</td>\n",
       "      <td>-5888.095370</td>\n",
       "      <td>3381.548993</td>\n",
       "      <td>-5889.760537</td>\n",
       "      <td>3345.497369</td>\n",
       "      <td>-5899.296967</td>\n",
       "      <td>3306.410001</td>\n",
       "      <td>NaN</td>\n",
       "    </tr>\n",
       "  </tbody>\n",
       "</table>\n",
       "<p>5 rows × 61 columns</p>\n",
       "</div>"
      ],
      "text/plain": [
       "                     BIGGS_X      BIGGS_Y      TBOYD_X      TBOYD_Y  \\\n",
       "00:01:20.500000 -5883.428678  3321.405380 -5897.969105  3296.898876   \n",
       "00:01:20.600000 -5883.102906  3321.527705 -5897.925245  3297.143092   \n",
       "00:01:20.700000 -5882.733123  3321.683360 -5897.916668  3297.464977   \n",
       "00:01:20.800000 -5882.354477  3321.761325 -5897.934449  3297.698049   \n",
       "00:01:20.900000 -5882.055110  3321.861433 -5897.978619  3297.886705   \n",
       "\n",
       "                  CAMPBELL_X   CAMPBELL_Y      CLOKE_X      CLOKE_Y  \\\n",
       "00:01:20.500000 -5898.370317  3328.320628 -5886.543428  3366.577187   \n",
       "00:01:20.600000 -5898.467202  3328.331657 -5886.270552  3366.777169   \n",
       "00:01:20.700000 -5898.581645  3328.264980 -5886.076971  3367.021492   \n",
       "00:01:20.800000 -5898.775439  3328.320337 -5885.786505  3367.254784   \n",
       "00:01:20.900000 -5899.066166  3328.453320 -5885.513677  3367.521362   \n",
       "\n",
       "                   COLLINS_X    COLLINS_Y    ...       ROBERTS_Y      SMITH_X  \\\n",
       "00:01:20.500000 -5903.165953  3297.916282    ...     3385.309733 -5881.801840   \n",
       "00:01:20.600000 -5903.130805  3298.027300    ...     3385.420726 -5881.617123   \n",
       "00:01:20.700000 -5903.095665  3298.149417    ...     3385.587228 -5881.405937   \n",
       "00:01:20.800000 -5903.034127  3298.304851    ...     3385.775934 -5881.212484   \n",
       "00:01:20.900000 -5902.954984  3298.471397    ...     3385.953548 -5880.992563   \n",
       "\n",
       "                     SMITH_Y   STRINGER_X   STRINGER_Y       WEBB_X  \\\n",
       "00:01:20.500000  3324.847318 -5888.350164  3380.694167 -5890.376870   \n",
       "00:01:20.600000  3325.169329 -5888.279818  3380.849607 -5890.209545   \n",
       "00:01:20.700000  3325.424763 -5888.200706  3381.060549 -5890.068577   \n",
       "00:01:20.800000  3325.846674 -5888.104026  3381.338100 -5889.901330   \n",
       "00:01:20.900000  3326.202008 -5888.095370  3381.548993 -5889.760537   \n",
       "\n",
       "                      WEBB_Y   WILLIAMS_X   WILLIAMS_Y  INPERIOD  \n",
       "00:01:20.500000  3345.274942 -5898.591764  3305.511465       NaN  \n",
       "00:01:20.600000  3345.286161 -5898.794452  3305.688908       NaN  \n",
       "00:01:20.700000  3345.208567 -5898.979510  3305.844165       NaN  \n",
       "00:01:20.800000  3345.330779 -5899.138195  3306.066037       NaN  \n",
       "00:01:20.900000  3345.497369 -5899.296967  3306.410001       NaN  \n",
       "\n",
       "[5 rows x 61 columns]"
      ]
     },
     "execution_count": 9,
     "metadata": {},
     "output_type": "execute_result"
    }
   ],
   "source": [
    "player_positions.head()"
   ]
  },
  {
   "cell_type": "code",
   "execution_count": 10,
   "metadata": {
    "collapsed": false
   },
   "outputs": [],
   "source": [
    "player_positions[\"LIBERATORE_X\"] = player_positions[\"LIBEREATORE_X\"]\n",
    "del player_positions[\"LIBEREATORE_X\"]"
   ]
  },
  {
   "cell_type": "code",
   "execution_count": 11,
   "metadata": {
    "collapsed": false
   },
   "outputs": [],
   "source": [
    "del player_positions[\"INPERIOD\"]"
   ]
  },
  {
   "cell_type": "code",
   "execution_count": 66,
   "metadata": {
    "collapsed": true
   },
   "outputs": [],
   "source": [
    "sorted_columns = sorted(player_positions.columns)\n",
    "player_positions = player_positions[sorted_columns]"
   ]
  },
  {
   "cell_type": "code",
   "execution_count": 67,
   "metadata": {
    "collapsed": false
   },
   "outputs": [
    {
     "data": {
      "text/plain": [
       "Index(['BIGGS_X', 'BIGGS_Y', 'CAMPBELL_X', 'CAMPBELL_Y', 'CLOKE_X', 'CLOKE_Y',\n",
       "       'COLLINS_X', 'COLLINS_Y', 'CRAMERI_X', 'CRAMERI_Y', 'DAHLHAUS_X',\n",
       "       'DAHLHAUS_Y', 'DALE_X', 'DALE_Y', 'DANIEL_X', 'DANIEL_Y', 'DUNKLEY_X',\n",
       "       'DUNKLEY_Y', 'ENGLISH_X', 'ENGLISH_Y', 'HAMILTON_X', 'HAMILTON_Y',\n",
       "       'HONEYCHURCH_X', 'HONEYCHURCH_Y', 'HUNTER_X', 'HUNTER_Y',\n",
       "       'JOHANNISEN_X', 'JOHANNISEN_Y', 'JONG_X', 'JONG_Y', 'LIBERATORE_X',\n",
       "       'LIBERATORE_Y', 'LIPINSKI_X', 'LIPINSKI_Y', 'LYNCH_X', 'LYNCH_Y',\n",
       "       'MCLEAN_X', 'MCLEAN_Y', 'MORRIS_X', 'MORRIS_Y', 'MULLENGER_X',\n",
       "       'MULLENGER_Y', 'MURPHY_X', 'MURPHY_Y', 'PICKEN_X', 'PICKEN_Y',\n",
       "       'ROBERTS_X', 'ROBERTS_Y', 'ROUGHEAD_X', 'ROUGHEAD_Y', 'SMITH_X',\n",
       "       'SMITH_Y', 'STRINGER_X', 'STRINGER_Y', 'TBOYD_X', 'TBOYD_Y', 'WEBB_X',\n",
       "       'WEBB_Y', 'WILLIAMS_X', 'WILLIAMS_Y'],\n",
       "      dtype='object')"
      ]
     },
     "execution_count": 67,
     "metadata": {},
     "output_type": "execute_result"
    }
   ],
   "source": [
    "player_positions.columns"
   ]
  },
  {
   "cell_type": "code",
   "execution_count": 68,
   "metadata": {
    "collapsed": false
   },
   "outputs": [
    {
     "data": {
      "text/plain": [
       "(-5973.6901530000005, -5842.9004079999995)"
      ]
     },
     "execution_count": 68,
     "metadata": {},
     "output_type": "execute_result"
    }
   ],
   "source": [
    "x_cols = [c for c in player_positions.columns if c.endswith(\"_X\")]\n",
    "min_x, max_x = np.nanmin(player_positions[x_cols].values), np.nanmax(player_positions[x_cols].values)\n",
    "min_x, max_x"
   ]
  },
  {
   "cell_type": "code",
   "execution_count": 69,
   "metadata": {
    "collapsed": false
   },
   "outputs": [
    {
     "data": {
      "text/plain": [
       "(3256.1355370000001, 3429.2074499999999)"
      ]
     },
     "execution_count": 69,
     "metadata": {},
     "output_type": "execute_result"
    }
   ],
   "source": [
    "y_cols = [c for c in player_positions.columns if c.endswith(\"_Y\")]\n",
    "min_y, max_y = np.nanmin(player_positions[y_cols].values), np.nanmax(player_positions[y_cols].values)\n",
    "min_y, max_y"
   ]
  },
  {
   "cell_type": "code",
   "execution_count": 70,
   "metadata": {
    "collapsed": false
   },
   "outputs": [],
   "source": [
    "%matplotlib inline"
   ]
  },
  {
   "cell_type": "code",
   "execution_count": 71,
   "metadata": {
    "collapsed": true
   },
   "outputs": [],
   "source": [
    "from matplotlib import pyplot as plt"
   ]
  },
  {
   "cell_type": "code",
   "execution_count": 72,
   "metadata": {
    "collapsed": false
   },
   "outputs": [],
   "source": [
    "import numpy as np\n",
    "p1 = np.vstack([player_positions.ix[0].values[i:i+2] for i in range(0, len(player_positions.columns), 2)])"
   ]
  },
  {
   "cell_type": "code",
   "execution_count": 73,
   "metadata": {
    "collapsed": false
   },
   "outputs": [
    {
     "data": {
      "text/plain": [
       "array([[-5883.428678,  3321.40538 ],\n",
       "       [-5898.370317,  3328.320628],\n",
       "       [-5886.543428,  3366.577187],\n",
       "       [-5903.165953,  3297.916282],\n",
       "       [-5914.223449,  3341.284295],\n",
       "       [-5895.207081,  3338.500927],\n",
       "       [-5887.519099,  3339.272282],\n",
       "       [-5904.926246,  3320.934909],\n",
       "       [-5904.736044,  3350.448009],\n",
       "       [-5890.556409,  3386.952576],\n",
       "       [-5888.484645,  3347.074378],\n",
       "       [-5882.427399,  3349.864629],\n",
       "       [-5915.137896,  3339.219173],\n",
       "       [-5899.245012,  3356.81183 ],\n",
       "       [-5883.051738,  3348.52117 ],\n",
       "       [-5894.96259 ,  3341.442409],\n",
       "       [-5901.763361,  3307.018692],\n",
       "       [-5902.371499,  3319.937808],\n",
       "       [-5890.753627,  3342.555351],\n",
       "       [-5894.496879,  3367.52603 ],\n",
       "       [-5891.413911,  3379.138075],\n",
       "       [-5878.641191,  3351.01056 ],\n",
       "       [-5889.800872,  3340.325079],\n",
       "       [-5890.766604,  3385.309733],\n",
       "       [-5899.857282,  3350.917678],\n",
       "       [-5881.80184 ,  3324.847318],\n",
       "       [-5888.350164,  3380.694167],\n",
       "       [-5897.969105,  3296.898876],\n",
       "       [-5890.37687 ,  3345.274942],\n",
       "       [-5898.591764,  3305.511465]])"
      ]
     },
     "execution_count": 73,
     "metadata": {},
     "output_type": "execute_result"
    }
   ],
   "source": [
    "p1"
   ]
  },
  {
   "cell_type": "code",
   "execution_count": 74,
   "metadata": {
    "collapsed": true
   },
   "outputs": [],
   "source": [
    "teams = pd.read_csv(\"/home/robert/data/Hackathon/player_team.csv\")\n",
    "teams['Player'] = teams[\"Player\"].apply(str.upper)"
   ]
  },
  {
   "cell_type": "code",
   "execution_count": 75,
   "metadata": {
    "collapsed": false
   },
   "outputs": [
    {
     "data": {
      "text/html": [
       "<div>\n",
       "<table border=\"1\" class=\"dataframe\">\n",
       "  <thead>\n",
       "    <tr style=\"text-align: right;\">\n",
       "      <th></th>\n",
       "      <th>Player</th>\n",
       "      <th>Team</th>\n",
       "    </tr>\n",
       "  </thead>\n",
       "  <tbody>\n",
       "    <tr>\n",
       "      <th>0</th>\n",
       "      <td>CAMPBELL</td>\n",
       "      <td>Blue</td>\n",
       "    </tr>\n",
       "    <tr>\n",
       "      <th>1</th>\n",
       "      <td>WEBB</td>\n",
       "      <td>Blue</td>\n",
       "    </tr>\n",
       "    <tr>\n",
       "      <th>2</th>\n",
       "      <td>DAHLHAUS</td>\n",
       "      <td>Blue</td>\n",
       "    </tr>\n",
       "    <tr>\n",
       "      <th>3</th>\n",
       "      <td>PICKEN</td>\n",
       "      <td>Blue</td>\n",
       "    </tr>\n",
       "    <tr>\n",
       "      <th>4</th>\n",
       "      <td>CRAMERI</td>\n",
       "      <td>Blue</td>\n",
       "    </tr>\n",
       "  </tbody>\n",
       "</table>\n",
       "</div>"
      ],
      "text/plain": [
       "     Player  Team\n",
       "0  CAMPBELL  Blue\n",
       "1      WEBB  Blue\n",
       "2  DAHLHAUS  Blue\n",
       "3    PICKEN  Blue\n",
       "4   CRAMERI  Blue"
      ]
     },
     "execution_count": 75,
     "metadata": {},
     "output_type": "execute_result"
    }
   ],
   "source": [
    "teams.head()"
   ]
  },
  {
   "cell_type": "code",
   "execution_count": 76,
   "metadata": {
    "collapsed": true
   },
   "outputs": [],
   "source": [
    "blue_players = teams[teams[\"Team\"] == \"Blue\"]['Player'].values\n",
    "yellow_players = teams[teams[\"Team\"] == \"Yellow\"]['Player'].values"
   ]
  },
  {
   "cell_type": "code",
   "execution_count": 77,
   "metadata": {
    "collapsed": false
   },
   "outputs": [
    {
     "data": {
      "text/plain": [
       "(array(['CAMPBELL', 'WEBB', 'DAHLHAUS', 'PICKEN', 'CRAMERI', 'DALE',\n",
       "        'COLLINS', 'BIGGS', 'LYNCH', 'CORDY', 'CLOKE', 'ENGLISH',\n",
       "        'STRINGER', 'HONEYCHURCH', 'DUNKLEY', 'WILLIAMS'], dtype=object),\n",
       " array(['ROUGHEAD', 'JONG', 'LIBERATORE', 'MCLEAN', 'HAMILTON', 'HUNTER',\n",
       "        'JOHANNISEN', 'MURPHY', 'MULLENGER', 'MORRIS', 'ROBERTS', 'TBOYD',\n",
       "        'SMITH', 'DANIEL', 'LIPINSKI'], dtype=object))"
      ]
     },
     "execution_count": 77,
     "metadata": {},
     "output_type": "execute_result"
    }
   ],
   "source": [
    "blue_players, yellow_players"
   ]
  },
  {
   "cell_type": "code",
   "execution_count": 78,
   "metadata": {
    "collapsed": false
   },
   "outputs": [
    {
     "name": "stdout",
     "output_type": "stream",
     "text": [
      "BIGGS_X blue\n",
      "BIGGS_Y blue\n",
      "CAMPBELL_X blue\n",
      "CAMPBELL_Y blue\n",
      "CLOKE_X blue\n",
      "CLOKE_Y blue\n",
      "COLLINS_X blue\n",
      "COLLINS_Y blue\n",
      "CRAMERI_X blue\n",
      "CRAMERI_Y blue\n",
      "DAHLHAUS_X blue\n",
      "DAHLHAUS_Y blue\n",
      "DALE_X blue\n",
      "DALE_Y blue\n",
      "DANIEL_X yellow\n",
      "DANIEL_Y yellow\n",
      "DUNKLEY_X blue\n",
      "DUNKLEY_Y blue\n",
      "ENGLISH_X blue\n",
      "ENGLISH_Y blue\n",
      "HAMILTON_X yellow\n",
      "HAMILTON_Y yellow\n",
      "HONEYCHURCH_X blue\n",
      "HONEYCHURCH_Y blue\n",
      "HUNTER_X yellow\n",
      "HUNTER_Y yellow\n",
      "JOHANNISEN_X yellow\n",
      "JOHANNISEN_Y yellow\n",
      "JONG_X yellow\n",
      "JONG_Y yellow\n",
      "LIBERATORE_X yellow\n",
      "LIBERATORE_Y yellow\n",
      "LIPINSKI_X yellow\n",
      "LIPINSKI_Y yellow\n",
      "LYNCH_X blue\n",
      "LYNCH_Y blue\n",
      "MCLEAN_X yellow\n",
      "MCLEAN_Y yellow\n",
      "MORRIS_X yellow\n",
      "MORRIS_Y yellow\n",
      "MULLENGER_X yellow\n",
      "MULLENGER_Y yellow\n",
      "MURPHY_X yellow\n",
      "MURPHY_Y yellow\n",
      "PICKEN_X blue\n",
      "PICKEN_Y blue\n",
      "ROBERTS_X yellow\n",
      "ROBERTS_Y yellow\n",
      "ROUGHEAD_X yellow\n",
      "ROUGHEAD_Y yellow\n",
      "SMITH_X yellow\n",
      "SMITH_Y yellow\n",
      "STRINGER_X blue\n",
      "STRINGER_Y blue\n",
      "TBOYD_X yellow\n",
      "TBOYD_Y yellow\n",
      "WEBB_X blue\n",
      "WEBB_Y blue\n",
      "WILLIAMS_X blue\n",
      "WILLIAMS_Y blue\n"
     ]
    }
   ],
   "source": [
    "for column in player_positions.columns:\n",
    "    if column.split(\"_\")[0] in blue_players:\n",
    "        print(column, \"blue\")\n",
    "    elif column.split(\"_\")[0] in yellow_players:\n",
    "        print(column, \"yellow\")\n",
    "    else:\n",
    "        print(column, \"unknown\")"
   ]
  },
  {
   "cell_type": "code",
   "execution_count": null,
   "metadata": {
    "collapsed": true
   },
   "outputs": [],
   "source": []
  },
  {
   "cell_type": "code",
   "execution_count": 79,
   "metadata": {
    "collapsed": false
   },
   "outputs": [],
   "source": [
    "g = player_positions.iterrows()"
   ]
  },
  {
   "cell_type": "code",
   "execution_count": 80,
   "metadata": {
    "collapsed": false
   },
   "outputs": [
    {
     "data": {
      "image/png": "[encoded data removed]",
      "text/plain": [
       "<matplotlib.figure.Figure at 0x7f4bc89a1cc0>"
      ]
     },
     "metadata": {},
     "output_type": "display_data"
    }
   ],
   "source": [
    "for i in range(10):\n",
    "    rownum, row = next(g)\n",
    "    \n",
    "fig, ax = plt.subplots()\n",
    "ax.set_xlim(min_x, max_x)\n",
    "ax.set_ylim(min_y, max_y)\n",
    "for team_color, team in [(\"b\", blue_players), (\"y\", yellow_players)]:\n",
    "    player_values = [row[column] for column in player_positions.columns if column.split(\"_\")[0] in team]\n",
    "    p1 = np.vstack([player_values[i:i+2] for i in range(0, len(player_values), 2)])\n",
    "    plt.scatter(p1[:,0], p1[:,1], c=team_color)"
   ]
  },
  {
   "cell_type": "code",
   "execution_count": 81,
   "metadata": {
    "collapsed": true
   },
   "outputs": [],
   "source": [
    "%config InlineBackend.figure_format = 'png'"
   ]
  },
  {
   "cell_type": "code",
   "execution_count": null,
   "metadata": {
    "collapsed": true
   },
   "outputs": [],
   "source": []
  },
  {
   "cell_type": "code",
   "execution_count": null,
   "metadata": {
    "collapsed": false
   },
   "outputs": [
    {
     "name": "stderr",
     "output_type": "stream",
     "text": [
      "/home/robert/Programs/anaconda3/lib/python3.5/site-packages/matplotlib/figure.py:397: UserWarning: matplotlib is currently using a non-GUI backend, so cannot show the figure\n",
      "  \"matplotlib is currently using a non-GUI backend, \"\n"
     ]
    }
   ],
   "source": [
    "\n",
    "\n",
    "\n",
    "import matplotlib as mpl\n",
    "\n",
    "fig, ax = plt.subplots()\n",
    "norm = mpl.colors.Normalize(vmin=0, vmax=10)\n",
    "cb1 = mpl.colorbar.ColorbarBase(ax, cmap='cubehelix',\n",
    "                                norm=norm,\n",
    "                               # orientation='horizontal'\n",
    "                               )\n",
    "fig.show()\n",
    "\n",
    "\n",
    "fig, ax = plt.subplots(figsize=(20, 12))\n",
    "\n",
    "line, = ax.plot([], [], lw=2)\n",
    "\n",
    "\n",
    "def init():\n",
    "    line.set_data([], [])\n",
    "    return (line,)\n",
    "\n",
    "hb = None\n",
    "\n",
    "def animate(i):\n",
    "    global hb\n",
    "    rownum, row = next(g)\n",
    "    plt.cla()\n",
    "    plt.imshow(img, zorder=0, extent=[0.5, 8.0, 1.0, 7.0])\n",
    "    #ax.set_xlim(min_x, max_x)\n",
    "    #ax.set_ylim(min_y, max_y)\n",
    "    for team_color, team_marker, team in [(\"b\", \"+\", blue_players), (\"y\", \"*\", yellow_players)]:\n",
    "        player_values = [row[column] for column in player_positions.columns if column.split(\"_\")[0] in team]\n",
    "        p1 = np.vstack([player_values[i:i+2] for i in range(0, len(player_values), 2)])\n",
    "        hb = ax.hexbin(p1[:,0], p1[:,1], gridsize=11, cmap='cubehelix', mincnt=1, vmin=0, vmax=10,\n",
    "                      extent=(min_x, max_x, min_y, max_y))\n",
    "        plt.scatter(p1[:,0], p1[:,1], c=team_color, marker=team_marker)\n",
    "        ax.axis([min_x, max_x, min_y, max_y])\n",
    "    \n",
    "    #line.set_data(x, y)\n",
    "    return (line,)\n",
    "\n",
    "import matplotlib.animation as animation\n",
    "anim = animation.FuncAnimation(fig, animate, init_func=init, frames=1000, interval=100, blit=True)\n",
    "\n",
    "from IPython.display import HTML\n",
    "HTML(anim.to_html5_video())"
   ]
  },
  {
   "cell_type": "code",
   "execution_count": 120,
   "metadata": {
    "collapsed": true
   },
   "outputs": [],
   "source": [
    "plt.scatter?"
   ]
  },
  {
   "cell_type": "code",
   "execution_count": 93,
   "metadata": {
    "collapsed": true
   },
   "outputs": [],
   "source": [
    "ax.hexbin?"
   ]
  },
  {
   "cell_type": "code",
   "execution_count": 94,
   "metadata": {
    "collapsed": false
   },
   "outputs": [
    {
     "data": {
      "text/plain": [
       "<matplotlib.collections.PolyCollection at 0x7f4bc88c2908>"
      ]
     },
     "execution_count": 94,
     "metadata": {},
     "output_type": "execute_result"
    }
   ],
   "source": [
    "hb\n",
    "\n"
   ]
  },
  {
   "cell_type": "code",
   "execution_count": 95,
   "metadata": {
    "collapsed": false
   },
   "outputs": [
    {
     "data": {
      "text/plain": [
       "array([ 3299.462801,  3323.975337,  3348.828472,  3337.586765,\n",
       "        3358.897962,  3349.876609, -5902.196559, -5877.664878,\n",
       "       -5890.798027, -5892.050345, -5890.314052, -5899.744969,\n",
       "       -5890.749974, -5880.227756, -5895.403975])"
      ]
     },
     "execution_count": 95,
     "metadata": {},
     "output_type": "execute_result"
    }
   ],
   "source": [
    "y"
   ]
  },
  {
   "cell_type": "code",
   "execution_count": 96,
   "metadata": {
    "collapsed": false
   },
   "outputs": [
    {
     "data": {
      "image/png": "[encoded data removed]",
      "text/plain": [
       "<matplotlib.figure.Figure at 0x7f4bc8a60278>"
      ]
     },
     "metadata": {},
     "output_type": "display_data"
    }
   ],
   "source": [
    "fig, ax = plt.subplots()\n",
    "#p1 = np.vstack([player_values[i:i+2] for i in range(0, len(player_values), 2)])\n",
    "x, y = p1[:,0], p1[:,1]\n",
    "\n",
    "#plt.scatter(p1[:,0], p1[:,1], gridsize=13)  #, c=team_color)\n",
    "hb = ax.hexbin(x, y, gridsize=5, cmap='inferno')\n",
    "hb = ax.scatter(x, y)"
   ]
  },
  {
   "cell_type": "code",
   "execution_count": 97,
   "metadata": {
    "collapsed": false
   },
   "outputs": [
    {
     "data": {
      "text/plain": [
       "array([[-5906.002882,  3323.975337],\n",
       "       [-5887.913442,  3348.828472],\n",
       "       [-5916.27283 ,  3337.586765],\n",
       "       [-5899.986299,  3358.897962],\n",
       "       [-5881.194422,  3349.876609],\n",
       "       [-5895.403975,  3342.884998],\n",
       "       [-5902.196559,  3309.32703 ],\n",
       "       [-5890.798027,  3343.065885],\n",
       "       [-5892.050345,  3370.080615],\n",
       "       [-5890.314052,  3380.570669],\n",
       "       [-5877.664878,  3352.787141],\n",
       "       [-5890.749974,  3386.686055],\n",
       "       [-5899.744969,  3353.958959],\n",
       "       [-5880.227756,  3328.167125],\n",
       "       [-5897.979748,  3299.462801]])"
      ]
     },
     "execution_count": 97,
     "metadata": {},
     "output_type": "execute_result"
    }
   ],
   "source": [
    "p1"
   ]
  },
  {
   "cell_type": "code",
   "execution_count": null,
   "metadata": {
    "collapsed": true
   },
   "outputs": [],
   "source": []
  }
 ],
 "metadata": {
  "kernelspec": {
   "display_name": "Python 3",
   "language": "python",
   "name": "python3"
  },
  "language_info": {
   "codemirror_mode": {
    "name": "ipython",
    "version": 3
   },
   "file_extension": ".py",
   "mimetype": "text/x-python",
   "name": "python",
   "nbconvert_exporter": "python",
   "pygments_lexer": "ipython3",
   "version": "3.5.2"
  }
 },
 "nbformat": 4,
 "nbformat_minor": 0
}
